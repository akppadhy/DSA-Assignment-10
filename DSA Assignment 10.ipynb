{
 "cells": [
  {
   "cell_type": "code",
   "execution_count": null,
   "id": "3269944d-17a4-4107-b77e-025eeded8f05",
   "metadata": {},
   "outputs": [],
   "source": [
    "#1. Given an integer n, return true if it is a power of three. Otherwise, return false.\n",
    "#An integer n is a power of three, if there exists an integer x such that n == 3x.\n",
    "#Example\n",
    "#Input: n = 27\n",
    "#Output: true\n"
   ]
  },
  {
   "cell_type": "code",
   "execution_count": 1,
   "id": "fd60a91a-4f6d-49b4-9bab-234a233c23b5",
   "metadata": {},
   "outputs": [
    {
     "name": "stdout",
     "output_type": "stream",
     "text": [
      "True\n"
     ]
    }
   ],
   "source": [
    "import math\n",
    "\n",
    "def is_power_of_three(n):\n",
    "    if n <= 0:\n",
    "        return False\n",
    "\n",
    "    exponent = round(math.log(n, 3))\n",
    "    return 3 ** exponent == n\n",
    "\n",
    "# Test Example\n",
    "n = 27\n",
    "print(is_power_of_three(n))"
   ]
  },
  {
   "cell_type": "code",
   "execution_count": null,
   "id": "23584593-0bdf-4027-99f9-8d4d477fca9c",
   "metadata": {},
   "outputs": [],
   "source": [
    "#2. You have a list arr of all integers in the range [1, n] sorted in a strictly increasing order. Apply the following algorithm on arr:\n",
    "#- Starting from left to right, remove the first number and every other number afterward until you reach the end of the list.\n",
    "#- Repeat the previous step again, but this time from right to left, remove the rightmost number and every other number from the remaining numbers.\n",
    "#- Keep repeating the steps again, alternating left to right and right to left, until a single number remains.\n",
    "#Given the integer n, return the last number that remains in arr.\n",
    "#Example\n",
    "#Input: n = 9\n",
    "#Output: 6"
   ]
  },
  {
   "cell_type": "code",
   "execution_count": 2,
   "id": "e2424eba-c1de-4581-a3b3-5af4539a32cb",
   "metadata": {},
   "outputs": [
    {
     "name": "stdout",
     "output_type": "stream",
     "text": [
      "6\n"
     ]
    }
   ],
   "source": [
    "def last_remaining(n):\n",
    "    left_to_right = True\n",
    "    remaining = n\n",
    "    step = 1\n",
    "    start = 1\n",
    "\n",
    "    while remaining > 1:\n",
    "        if left_to_right or remaining % 2 == 1:\n",
    "            start += step\n",
    "\n",
    "        remaining //= 2\n",
    "        step *= 2\n",
    "        left_to_right = not left_to_right\n",
    "\n",
    "    return start\n",
    "\n",
    "# Test Example\n",
    "n = 9\n",
    "print(last_remaining(n))"
   ]
  },
  {
   "cell_type": "code",
   "execution_count": null,
   "id": "bb7acf1a-17a7-4375-ab5f-22ed534feb7f",
   "metadata": {},
   "outputs": [],
   "source": [
    "#3. Given a set represented as a string, write a recursive code to print all subsets of it. The subsets can be printed in any order.\n",
    "#Example 1:\n",
    "#Input :  set = “abc”\n",
    "#Output : { “”, “a”, “b”, “c”, “ab”, “ac”, “bc”, “abc”}"
   ]
  },
  {
   "cell_type": "code",
   "execution_count": 3,
   "id": "6430e9e4-86a3-46f2-88a1-1ea455eb2a9e",
   "metadata": {},
   "outputs": [
    {
     "name": "stdout",
     "output_type": "stream",
     "text": [
      "\n",
      "a\n",
      "b\n",
      "ab\n",
      "c\n",
      "ac\n",
      "bc\n",
      "abc\n"
     ]
    }
   ],
   "source": [
    "def print_subsets(s):\n",
    "    n = len(s)\n",
    "    total_subsets = 1 << n  # Equivalent to 2^N\n",
    "\n",
    "    for i in range(total_subsets):\n",
    "        subset = \"\"\n",
    "        for j in range(n):\n",
    "            if i & (1 << j):\n",
    "                subset += s[j]\n",
    "        print(subset)\n",
    "\n",
    "# Test Example\n",
    "set_str = \"abc\"\n",
    "print_subsets(set_str)"
   ]
  },
  {
   "cell_type": "code",
   "execution_count": null,
   "id": "4b400189-ab82-4936-bc96-d399f7bc42e9",
   "metadata": {},
   "outputs": [],
   "source": [
    "#4. Given a string calculate length of the string using recursion.\n",
    "#Example\n",
    "#Input : str = \"abcd\"\n",
    "#Output :4"
   ]
  },
  {
   "cell_type": "code",
   "execution_count": 4,
   "id": "0231c8fb-4946-4ef2-9a56-c621a8997c2c",
   "metadata": {},
   "outputs": [
    {
     "name": "stdout",
     "output_type": "stream",
     "text": [
      "4\n"
     ]
    }
   ],
   "source": [
    "def string_length_recursive(s):\n",
    "    if s == \"\":\n",
    "        return 0\n",
    "    else:\n",
    "        return 1 + string_length_recursive(s[1:])\n",
    "\n",
    "# Test Example\n",
    "str_input = \"abcd\"\n",
    "print(string_length_recursive(str_input))"
   ]
  },
  {
   "cell_type": "code",
   "execution_count": null,
   "id": "2973f7b3-defa-4e89-8736-d84cdcb47f03",
   "metadata": {},
   "outputs": [],
   "source": [
    "#5. We are given a string S, we need to find count of all contiguous substrings starting and ending with same character.\n",
    "#Example\n",
    "#Input : S = \"aba\"\n",
    "#Output : 4\n",
    "#The substrings are a, b, a and aba"
   ]
  },
  {
   "cell_type": "code",
   "execution_count": 5,
   "id": "aa71c98c-c602-495a-aba1-2ff6a957d983",
   "metadata": {},
   "outputs": [
    {
     "name": "stdout",
     "output_type": "stream",
     "text": [
      "4\n"
     ]
    }
   ],
   "source": [
    "def count_contiguous_substrings(S):\n",
    "    count = 0\n",
    "    n = len(S)\n",
    "\n",
    "    for i in range(n):\n",
    "        j = i\n",
    "        while j < n:\n",
    "            if S[i] == S[j]:\n",
    "                count += 1\n",
    "            j += 1\n",
    "\n",
    "    return count\n",
    "\n",
    "# Test Example\n",
    "S = \"aba\"\n",
    "print(count_contiguous_substrings(S))"
   ]
  },
  {
   "cell_type": "code",
   "execution_count": null,
   "id": "9cd6fca2-b697-417a-b8cc-6027434653ad",
   "metadata": {},
   "outputs": [],
   "source": [
    "#6. The tower of Hanoi is a famous puzzle where we have three rods and N disks. The objective of the puzzle is to move the entire stack to another rod. You are given the number of discs N. Initially, these discs are in the rod 1. You need to print all the steps of discs movement so that all the discs reach the 3rd rod. Also, you need to find the total moves.Note: The discs are arranged such that the top disc is numbered 1 and the bottom-most disc is numbered N. Also, all the discs have different sizes and a bigger disc cannot be put on the top of a smaller disc. Refer the provided link to get a better clarity about the puzzle.\n",
    "#Example\n",
    "#Input:\n",
    "#N = 2\n",
    "#Output:\n",
    "#move disk 1 from rod 1 to rod 2\n",
    "#move disk 2 from rod 1 to rod 3\n",
    "#move disk 1 from rod 2 to rod 3\n",
    "#3"
   ]
  },
  {
   "cell_type": "code",
   "execution_count": 6,
   "id": "b18f8d09-3302-4caf-af8f-97e91c1c788f",
   "metadata": {},
   "outputs": [
    {
     "name": "stdout",
     "output_type": "stream",
     "text": [
      "move disk 1 from rod [2] to rod [1]\n",
      "move disk 2 from rod [] to rod [2]\n",
      "move disk 1 from rod [] to rod [2, 1]\n",
      "Total Moves: 3\n"
     ]
    }
   ],
   "source": [
    "def tower_of_hanoi(n):\n",
    "    moves = []\n",
    "    source = [i for i in range(n, 0, -1)]\n",
    "    auxiliary = []\n",
    "    destination = []\n",
    "\n",
    "    def move_disk(src, dest):\n",
    "        dest.append(src.pop())\n",
    "        moves.append(f\"move disk {dest[-1]} from rod {src} to rod {dest}\")\n",
    "\n",
    "    def hanoi(n, source, auxiliary, destination):\n",
    "        if n == 0:\n",
    "            return\n",
    "        hanoi(n-1, source, destination, auxiliary)\n",
    "        move_disk(source, destination)\n",
    "        hanoi(n-1, auxiliary, source, destination)\n",
    "\n",
    "    hanoi(n, source, auxiliary, destination)\n",
    "    return moves\n",
    "\n",
    "# Test Example\n",
    "N = 2\n",
    "moves = tower_of_hanoi(N)\n",
    "for move in moves:\n",
    "    print(move)\n",
    "print(\"Total Moves:\", len(moves))"
   ]
  },
  {
   "cell_type": "code",
   "execution_count": null,
   "id": "112421d1-eaa1-4443-a86e-fdd3836a153f",
   "metadata": {},
   "outputs": [],
   "source": [
    "#7. Given a string str, the task is to print all the permutations of str. A permutation is an arrangement of all or part of a set of objects, with regard to the order of the arrangement. For instance, the words ‘bat’ and ‘tab’ represents two distinct permutation (or arrangements) of a similar three letter word.\n",
    "#Examples:\n",
    "#Input: str = “cd”\n",
    "#Output: cd dc"
   ]
  },
  {
   "cell_type": "code",
   "execution_count": 7,
   "id": "8955c2ca-5c34-4b4a-98f9-db699c4f3718",
   "metadata": {},
   "outputs": [
    {
     "name": "stdout",
     "output_type": "stream",
     "text": [
      "cd\n",
      "dc\n"
     ]
    }
   ],
   "source": [
    "from itertools import permutations\n",
    "\n",
    "def all_permutations(str):\n",
    "    perm_set = set(permutations(str))\n",
    "    for perm in perm_set:\n",
    "        print(\"\".join(perm))\n",
    "\n",
    "# Test Exampple\n",
    "input_str = \"cd\"\n",
    "all_permutations(input_str)"
   ]
  },
  {
   "cell_type": "code",
   "execution_count": null,
   "id": "d06337d6-d236-4afd-9c5d-c08b086323bb",
   "metadata": {},
   "outputs": [],
   "source": [
    "#8. Given a string, count total number of consonants in it. A consonant is an English alphabet character that is not vowel (a, e, i, o and u). Examples of constants are b, c, d, f, and g.\n",
    "#Examples :\n",
    "#Input : abc de\n",
    "#Output : 3\n",
    "#There are three consonants b, c and d."
   ]
  },
  {
   "cell_type": "code",
   "execution_count": 8,
   "id": "fc2f9abb-2793-4561-92ad-53f3d5db02af",
   "metadata": {},
   "outputs": [
    {
     "name": "stdout",
     "output_type": "stream",
     "text": [
      "3\n"
     ]
    }
   ],
   "source": [
    "def count_consonants(s):\n",
    "    consonants = set(\"bcdfghjklmnpqrstvwxyzBCDFGHJKLMNPQRSTVWXYZ\")\n",
    "    count = 0\n",
    "\n",
    "    for char in s:\n",
    "        if char in consonants:\n",
    "            count += 1\n",
    "\n",
    "    return count\n",
    "\n",
    "# Test Example\n",
    "input_str = \"abc de\"\n",
    "print(count_consonants(input_str))"
   ]
  },
  {
   "cell_type": "code",
   "execution_count": null,
   "id": "f3c27402-530e-4a5e-b52f-3ea81fb1b9a5",
   "metadata": {},
   "outputs": [],
   "source": []
  }
 ],
 "metadata": {
  "kernelspec": {
   "display_name": "Python 3 (ipykernel)",
   "language": "python",
   "name": "python3"
  },
  "language_info": {
   "codemirror_mode": {
    "name": "ipython",
    "version": 3
   },
   "file_extension": ".py",
   "mimetype": "text/x-python",
   "name": "python",
   "nbconvert_exporter": "python",
   "pygments_lexer": "ipython3",
   "version": "3.10.6"
  }
 },
 "nbformat": 4,
 "nbformat_minor": 5
}
